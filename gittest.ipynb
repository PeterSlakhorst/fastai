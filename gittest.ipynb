{
 "cells": [
  {
   "cell_type": "markdown",
   "id": "ccbf1faa-587b-463f-8367-5f17f3ed1c83",
   "metadata": {},
   "source": [
    "## Git test,\n",
    "\n",
    "- git add \n",
    "- git status\n",
    "- git commit\n",
    "- git push\n"
   ]
  },
  {
   "cell_type": "code",
   "execution_count": 1,
   "id": "f9a8c595-3828-44a6-b249-28f57c0ee3f6",
   "metadata": {},
   "outputs": [],
   "source": [
    "import numpy as np"
   ]
  },
  {
   "cell_type": "code",
   "execution_count": 3,
   "id": "9f262c16-20a2-4b5f-b955-d0c2e4912410",
   "metadata": {},
   "outputs": [],
   "source": [
    "x = np.sin(np.pi)"
   ]
  },
  {
   "cell_type": "markdown",
   "id": "bc14a127-9d22-4f7d-9be0-f0c2dc42b196",
   "metadata": {},
   "source": [
    "# last comment"
   ]
  }
 ],
 "metadata": {
  "kernelspec": {
   "display_name": "Python 3 (ipykernel)",
   "language": "python",
   "name": "python3"
  },
  "language_info": {
   "codemirror_mode": {
    "name": "ipython",
    "version": 3
   },
   "file_extension": ".py",
   "mimetype": "text/x-python",
   "name": "python",
   "nbconvert_exporter": "python",
   "pygments_lexer": "ipython3",
   "version": "3.9.13"
  }
 },
 "nbformat": 4,
 "nbformat_minor": 5
}
